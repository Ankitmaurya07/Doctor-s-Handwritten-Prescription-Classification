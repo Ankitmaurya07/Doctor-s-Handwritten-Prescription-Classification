{
 "cells": [
  {
   "cell_type": "code",
   "execution_count": 233,
   "id": "50bb4440-7383-465c-87b6-49d529f20c31",
   "metadata": {},
   "outputs": [],
   "source": [
    "import tensorflow as tf\n",
    "from tensorflow.keras.models import Sequential\n",
    "from tensorflow.keras.layers import Conv2D, MaxPooling2D, Flatten, Dense, Dropout, BatchNormalization\n",
    "from sklearn.model_selection import train_test_split\n",
    "import cv2\n",
    "import numpy as np \n",
    "import os \n",
    "import pandas as pd\n",
    "import matplotlib.image as mpimg\n",
    "from PIL import Image\n",
    "import keras_tuner as kt\n"
   ]
  },
  {
   "cell_type": "code",
   "execution_count": 234,
   "id": "82d1b32f-7527-4d54-a74b-458aacb13a27",
   "metadata": {},
   "outputs": [],
   "source": [
    "def load_images_labels(image_folder, label_file, target_size=(64,64)):\n",
    "    images, labels = [], []\n",
    "    \n",
    "    label_df = pd.read_csv(label_file)\n",
    "    label_dict = dict(zip(label_df['IMAGE'], label_df['MEDICINE_NAME'])) \n",
    "    \n",
    "    total_files = len(os.listdir(image_folder))\n",
    "    loaded_files = 0\n",
    "    skipped_files = 0\n",
    "    \n",
    "    for img_file in os.listdir(image_folder):\n",
    "        img_path = os.path.join(image_folder, img_file)\n",
    "        image = Image.open(img_path).convert('RGB')  \n",
    "        image = image.resize(target_size)  \n",
    "        image_array = np.array(image)  \n",
    "        # print(image_array.shape)\n",
    "        images.append(image_array)\n",
    "        labels.append(label_dict[img_file])\n",
    "\n",
    "    return np.array(images), np.array(labels)"
   ]
  },
  {
   "cell_type": "code",
   "execution_count": 235,
   "id": "c585ee05-1b91-40e8-b064-99014e14c2c5",
   "metadata": {},
   "outputs": [],
   "source": [
    "train_img_folder = \"archive (2)/Doctor’s Handwritten Prescription BD dataset/Training/training_words\"\n",
    "train_label_file = \"archive (2)/Doctor’s Handwritten Prescription BD dataset/Training/training_labels.csv\"\n",
    "\n",
    "test_img_folder = \"archive (2)/Doctor’s Handwritten Prescription BD dataset/Testing/testing_words\"\n",
    "test_label_file = \"archive (2)/Doctor’s Handwritten Prescription BD dataset/Testing/testing_labels.csv\"\n",
    "\n",
    "val_img_folder = \"archive (2)/Doctor’s Handwritten Prescription BD dataset/Validation/validation_words\"\n",
    "val_label_f = \"archive (2)/Doctor’s Handwritten Prescription BD dataset/Validation/validation_labels.csv\"\n"
   ]
  },
  {
   "cell_type": "code",
   "execution_count": 236,
   "id": "7f2bf81f-bec4-46b2-8282-d626cfb4fb1f",
   "metadata": {},
   "outputs": [
    {
     "name": "stdout",
     "output_type": "stream",
     "text": [
      "(66, 177, 3)\n"
     ]
    }
   ],
   "source": [
    "im = mpimg.imread(\"archive (2)/Doctor’s Handwritten Prescription BD dataset/Training/training_words/8.png\")\n",
    "\n",
    "print(im.shape)\n"
   ]
  },
  {
   "cell_type": "code",
   "execution_count": 237,
   "id": "8f1e91d3-bc42-4733-8ef9-b5ae2686621b",
   "metadata": {},
   "outputs": [
    {
     "name": "stdout",
     "output_type": "stream",
     "text": [
      "-------------------------------------------------------\n",
      "-------------------------------------------------------\n"
     ]
    }
   ],
   "source": [
    "X_train, y_train = load_images_labels(train_img_folder, train_label_file)\n",
    "print(\"-------------------------------------------------------\")\n",
    "X_val, y_val = load_images_labels(val_img_folder, val_label_file)\n",
    "print(\"-------------------------------------------------------\")\n",
    "X_test, y_test = load_images_labels(test_img_folder, test_label_file)"
   ]
  },
  {
   "cell_type": "code",
   "execution_count": 238,
   "id": "2299025b-5382-434b-bf17-b490a84935a5",
   "metadata": {},
   "outputs": [
    {
     "data": {
      "text/plain": [
       "(3120, 64, 64, 3)"
      ]
     },
     "execution_count": 238,
     "metadata": {},
     "output_type": "execute_result"
    }
   ],
   "source": [
    "len(X_train)\n",
    "X_train.shape"
   ]
  },
  {
   "cell_type": "code",
   "execution_count": 239,
   "id": "5acb64d8-0721-4faf-b4a8-8ca766f45607",
   "metadata": {},
   "outputs": [
    {
     "name": "stdout",
     "output_type": "stream",
     "text": [
      "Initial shapes: (3120, 64, 64, 3) (780, 64, 64, 3) (780, 64, 64, 3)\n",
      "Shapes after expansion: (3120, 64, 64, 3) (780, 64, 64, 3) (780, 64, 64, 3)\n"
     ]
    }
   ],
   "source": [
    "\n",
    "X_train, X_val, X_test = np.array(X_train, dtype='float32') / 255.0, np.array(X_val, dtype='float32') / 255.0, np.array(X_test, dtype='float32') / 255.0\n",
    "\n",
    "print(\"Initial shapes:\", X_train.shape, X_val.shape, X_test.shape)\n",
    "\n",
    "if X_train.ndim == 3:  \n",
    "    X_train = np.expand_dims(X_train, axis=-1)\n",
    "if X_val.ndim == 3:\n",
    "    X_val = np.expand_dims(X_val, axis=-1)\n",
    "if X_test.ndim == 3:\n",
    "    X_test = np.expand_dims(X_test, axis=-1)\n",
    "\n",
    "print(\"Shapes after expansion:\", X_train.shape, X_val.shape, X_test.shape)\n",
    "\n",
    "from sklearn.preprocessing import LabelEncoder\n",
    "label_encoder = LabelEncoder()\n",
    "y_train = label_encoder.fit_transform(y_train)\n",
    "y_val = label_encoder.transform(y_val)\n",
    "y_test = label_encoder.transform(y_test)\n",
    "\n",
    "y_train, y_val, y_test = np.array(y_train, dtype='int32'), np.array(y_val, dtype='int32'), np.array(y_test, dtype='int32')\n",
    "\n",
    "\n",
    "\n"
   ]
  },
  {
   "cell_type": "code",
   "execution_count": 246,
   "id": "e7154dd6-8a27-47c5-9c64-3e33aaf3762f",
   "metadata": {},
   "outputs": [],
   "source": [
    "# Model definition with Keras Tuner\n",
    "IMG_SIZE = (64,64,3)\n",
    "def build_model(hp):\n",
    "    model = Sequential()\n",
    "    \n",
    "    # Tuning Conv2D layers\n",
    "    for i in range(hp.Int('conv_layers', 2, 4)): \n",
    "        model.add(Conv2D(\n",
    "            filters=hp.Int(f'filters_{i}', min_value=32, max_value=128, step=32),\n",
    "            kernel_size=hp.Choice(f'kernel_size_{i}', values=[3, 5]),\n",
    "            activation='relu',\n",
    "            input_shape=(IMG_SIZE[0], IMG_SIZE[1], IMG_SIZE[2]) if i == 0 else None\n",
    "        ))\n",
    "        model.add(BatchNormalization())\n",
    "        model.add(MaxPooling2D((2, 2)))\n",
    "        model.add(Dropout(hp.Float(f'dropout_{i}', min_value=0.2, max_value=0.5, step=0.1)))\n",
    "    \n",
    "    # Flatten and Dense layers\n",
    "    model.add(Flatten())\n",
    "    model.add(Dense(\n",
    "        units=hp.Int('dense_units', min_value=64, max_value=256, step=64),\n",
    "        activation='relu'\n",
    "    ))\n",
    "    model.add(BatchNormalization())\n",
    "    model.add(Dropout(hp.Float('dense_dropout', min_value=0.3, max_value=0.6, step=0.1)))\n",
    "    \n",
    "    # Output layer\n",
    "    model.add(Dense(len(label_encoder.classes_), activation='softmax'))\n",
    "    \n",
    "    # Compile the model\n",
    "    model.compile(\n",
    "        optimizer=hp.Choice('optimizer', values=['adam', 'rmsprop']),\n",
    "        loss='sparse_categorical_crossentropy',\n",
    "        metrics=['accuracy']\n",
    "    )\n",
    "    return model"
   ]
  },
  {
   "cell_type": "code",
   "execution_count": 248,
   "id": "e0209596-c870-4c2d-b25c-de5e84a85930",
   "metadata": {},
   "outputs": [
    {
     "name": "stdout",
     "output_type": "stream",
     "text": [
      "Reloading Tuner from kt_search_dir\\handwritten_prescription_tuning\\tuner0.json\n"
     ]
    }
   ],
   "source": [
    "tuner = kt.RandomSearch(\n",
    "    build_model,\n",
    "    objective='val_accuracy',\n",
    "    max_trials=10,  \n",
    "    executions_per_trial=1, \n",
    "    directory='kt_search_dir',\n",
    "    project_name='handwritten_prescription_tuning'\n",
    ")"
   ]
  },
  {
   "cell_type": "code",
   "execution_count": 249,
   "id": "b7324a37-4355-4994-b883-d5e632dbf427",
   "metadata": {},
   "outputs": [
    {
     "name": "stdout",
     "output_type": "stream",
     "text": [
      "Trial 10 Complete [00h 06m 35s]\n",
      "val_accuracy: 0.656410276889801\n",
      "\n",
      "Best val_accuracy So Far: 0.7384615540504456\n",
      "Total elapsed time: 01h 27m 29s\n"
     ]
    }
   ],
   "source": [
    "tuner.search(X_train, y_train, batch_size=32,\n",
    "             validation_data=(X_val, y_val),\n",
    "             epochs=10)\n"
   ]
  },
  {
   "cell_type": "code",
   "execution_count": null,
   "id": "2edf4004-0b8f-4bad-8447-09f9f1f2110f",
   "metadata": {},
   "outputs": [],
   "source": [
    "# as you can see on 10 trials of  random hyperparameters generated  by keras tuner for cnn model\n",
    "# the max accuracy coming as 73.8 %.\n",
    "# on net i saw a file where one person is getting 74 % accuracy but he fit and eavluate the model on same dataset not on seperate \n",
    "# like validation dataset and test dataset "
   ]
  },
  {
   "cell_type": "code",
   "execution_count": null,
   "id": "138529ae-b9e1-46eb-99bf-e22537242c1b",
   "metadata": {},
   "outputs": [],
   "source": []
  },
  {
   "cell_type": "code",
   "execution_count": null,
   "id": "95df2050-644d-4653-a32b-42b06cbbe8ea",
   "metadata": {},
   "outputs": [],
   "source": []
  },
  {
   "cell_type": "code",
   "execution_count": null,
   "id": "fee95adb-0a00-4eaf-a782-805daa840561",
   "metadata": {},
   "outputs": [],
   "source": []
  }
 ],
 "metadata": {
  "kernelspec": {
   "display_name": "Python 3 (ipykernel)",
   "language": "python",
   "name": "python3"
  },
  "language_info": {
   "codemirror_mode": {
    "name": "ipython",
    "version": 3
   },
   "file_extension": ".py",
   "mimetype": "text/x-python",
   "name": "python",
   "nbconvert_exporter": "python",
   "pygments_lexer": "ipython3",
   "version": "3.12.4"
  }
 },
 "nbformat": 4,
 "nbformat_minor": 5
}
